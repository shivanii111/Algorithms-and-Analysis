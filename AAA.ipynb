{
  "nbformat": 4,
  "nbformat_minor": 0,
  "metadata": {
    "colab": {
      "provenance": [],
      "authorship_tag": "ABX9TyManHK5ckgiZ1xEauetvMf6",
      "include_colab_link": true
    },
    "kernelspec": {
      "name": "python3",
      "display_name": "Python 3"
    },
    "language_info": {
      "name": "python"
    }
  },
  "cells": [
    {
      "cell_type": "markdown",
      "metadata": {
        "id": "view-in-github",
        "colab_type": "text"
      },
      "source": [
        "<a href=\"https://colab.research.google.com/github/shivanii111/Algorithms-and-Analysis/blob/main/AAA.ipynb\" target=\"_parent\"><img src=\"https://colab.research.google.com/assets/colab-badge.svg\" alt=\"Open In Colab\"/></a>"
      ]
    },
    {
      "cell_type": "code",
      "source": [
        "# Bubble sort in Python\n",
        "def bubbleSort(array):\n",
        "  for i in range(len(array)):\n",
        "    for j in range(0, len(array) - i - 1):\n",
        "      if array[j] > array[j + 1]:\n",
        "        temp = array[j]\n",
        "        array[j] = array[j+1]\n",
        "        array[j+1] = temp\n",
        "\n",
        "data = [45,32,16,84,76,1,19]\n",
        "print(f\"Original data: {data}\")\n",
        "bubbleSort(data)\n",
        "print('Sorted Array:')\n",
        "print(data)"
      ],
      "metadata": {
        "colab": {
          "base_uri": "https://localhost:8080/"
        },
        "id": "IZOCwmstk8vK",
        "outputId": "47f1e2a7-4369-4440-b635-a3688fb1044c"
      },
      "execution_count": 1,
      "outputs": [
        {
          "output_type": "stream",
          "name": "stdout",
          "text": [
            "Original data: [45, 32, 16, 84, 76, 1, 19]\n",
            "Sorted Array:\n",
            "[1, 16, 19, 32, 45, 76, 84]\n"
          ]
        }
      ]
    },
    {
      "cell_type": "code",
      "source": [
        "# Selection sort in Python\n",
        "def selectionSort(array, n):\n",
        "    for step in range(n):\n",
        "        min_idx = step\n",
        "        for i in range(step + 1, size):\n",
        "            if array[i] < array[min_idx]:\n",
        "                min_idx = i\n",
        "        (array[step], array[min_idx]) = (array[min_idx], array[step])\n",
        "\n",
        "\n",
        "data = [45,32,16,84,76,1,19]\n",
        "print(f\"Original data: {data}\")\n",
        "size = len(data)\n",
        "selectionSort(data, size)\n",
        "print('Sorted Array :')\n",
        "print(data)"
      ],
      "metadata": {
        "colab": {
          "base_uri": "https://localhost:8080/"
        },
        "id": "No-q06wak8xx",
        "outputId": "be957320-b626-4ac3-e82f-52ed1df1fdd1"
      },
      "execution_count": 2,
      "outputs": [
        {
          "output_type": "stream",
          "name": "stdout",
          "text": [
            "Original data: [45, 32, 16, 84, 76, 1, 19]\n",
            "Sorted Array :\n",
            "[1, 16, 19, 32, 45, 76, 84]\n"
          ]
        }
      ]
    },
    {
      "cell_type": "code",
      "source": [
        "# Insertion sort in Python\n",
        "def insertionSort(array):\n",
        "    for step in range(1, len(array)):\n",
        "        key = array[step]\n",
        "        j = step - 1\n",
        "        while j >= 0 and key < array[j]:\n",
        "            array[j + 1] = array[j]\n",
        "            j = j - 1\n",
        "        array[j + 1] = key\n",
        "\n",
        "\n",
        "data = [45,32,16,84,76,1,19]\n",
        "print(f\"Original data: {data}\")\n",
        "insertionSort(data)\n",
        "print('Sorted Array:')\n",
        "print(data)\n",
        "\n",
        ""
      ],
      "metadata": {
        "colab": {
          "base_uri": "https://localhost:8080/"
        },
        "id": "-vT6O8g7k80p",
        "outputId": "fb685a80-014d-4da1-caa1-771bdc96f9e8"
      },
      "execution_count": 3,
      "outputs": [
        {
          "output_type": "stream",
          "name": "stdout",
          "text": [
            "Original data: [45, 32, 16, 84, 76, 1, 19]\n",
            "Sorted Array:\n",
            "[1, 16, 19, 32, 45, 76, 84]\n"
          ]
        }
      ]
    },
    {
      "cell_type": "code",
      "source": [
        "# merge sort in python\n",
        "def merge_sort(arr):\n",
        "    if len(arr) <= 1:\n",
        "        return arr\n",
        "    mid = len(arr) // 2\n",
        "    left = merge_sort(arr[:mid])\n",
        "    right = merge_sort(arr[mid:])\n",
        "    return merge(left, right)\n",
        "def merge(left, right):\n",
        "    merged = []\n",
        "    i = j = 0\n",
        "    while i < len(left) and j < len(right):\n",
        "        if left[i] < right[j]:\n",
        "            merged.append(left[i])\n",
        "            i += 1\n",
        "        else:\n",
        "            merged.append(right[j])\n",
        "            j += 1\n",
        "    merged.extend(left[i:])\n",
        "    merged.extend(right[j:])\n",
        "    return merged\n",
        "\n",
        "nums = [38, 27, 43, 3, 9, 82, 10]\n",
        "print(\"Original:\", nums)\n",
        "print(\"Sorted:\", merge_sort(nums))\n"
      ],
      "metadata": {
        "colab": {
          "base_uri": "https://localhost:8080/"
        },
        "id": "j4jvhFfvk82-",
        "outputId": "cfc1c57f-7006-48d7-d435-ccda1d08b8c3"
      },
      "execution_count": 4,
      "outputs": [
        {
          "output_type": "stream",
          "name": "stdout",
          "text": [
            "Original: [38, 27, 43, 3, 9, 82, 10]\n",
            "Sorted: [3, 9, 10, 27, 38, 43, 82]\n"
          ]
        }
      ]
    },
    {
      "cell_type": "code",
      "source": [
        "def quick_sort(arr):\n",
        "    if len(arr) <= 1:\n",
        "        return arr\n",
        "    pivot = arr[-1]\n",
        "    left = [x for x in arr[:-1] if x <= pivot]\n",
        "    right = [x for x in arr[:-1] if x > pivot]\n",
        "    return quick_sort(left) + [pivot] + quick_sort(right)\n",
        "\n",
        "nums = [38, 27, 43, 3, 9, 82, 10]\n",
        "print(\"Original:\", nums)\n",
        "print(\"Sorted:\", quick_sort(nums))"
      ],
      "metadata": {
        "colab": {
          "base_uri": "https://localhost:8080/"
        },
        "id": "qCRWkQ3rk85T",
        "outputId": "e6e901b6-778f-4d75-cf2b-f537a61c3338"
      },
      "execution_count": 5,
      "outputs": [
        {
          "output_type": "stream",
          "name": "stdout",
          "text": [
            "Original: [38, 27, 43, 3, 9, 82, 10]\n",
            "Sorted: [3, 9, 10, 27, 38, 43, 82]\n"
          ]
        }
      ]
    },
    {
      "cell_type": "code",
      "source": [
        "#kahn_topological_sort\n",
        "\n",
        "from collections import deque, defaultdict\n",
        "\n",
        "def kahn_topological_sort(num_nodes, edges):\n",
        "    # Build graph adjacency list + indegree count\n",
        "    graph = defaultdict(list)\n",
        "    indegree = [0] * num_nodes\n",
        "\n",
        "    for u, v in edges:\n",
        "        graph[u].append(v)\n",
        "        indegree[v] += 1\n",
        "    print(\"in degree\", indegree)\n",
        "    # Queue of all nodes with indegree 0\n",
        "    q = deque([i for i in range(num_nodes) if indegree[i] == 0])\n",
        "    topo = []\n",
        "\n",
        "    while q:\n",
        "        u = q.popleft()\n",
        "        topo.append(u)\n",
        "        for v in graph[u]:\n",
        "            indegree[v] -= 1\n",
        "            if indegree[v] == 0:\n",
        "                q.append(v)\n",
        "\n",
        "    if len(topo) != num_nodes:\n",
        "        raise ValueError(\"Graph contains a cycle, topological sort not possible.\")\n",
        "    return topo\n",
        "\n",
        "\n",
        "# Example usage\n",
        "if __name__ == \"__main__\":\n",
        "    # number of nodes and edges\n",
        "    n = 6\n",
        "    edges = [\n",
        "        (5, 2), (5, 0),\n",
        "        (4, 0), (4, 1),\n",
        "        (2, 3), (3, 1)\n",
        "    ]\n",
        "\n",
        "    order = kahn_topological_sort(n, edges)\n",
        "    print(\"Topological order:\", order)\n"
      ],
      "metadata": {
        "colab": {
          "base_uri": "https://localhost:8080/"
        },
        "id": "WmR-uo_Ok879",
        "outputId": "af784f6d-7f6e-4376-d972-a8c63d5370d9"
      },
      "execution_count": 7,
      "outputs": [
        {
          "output_type": "stream",
          "name": "stdout",
          "text": [
            "in degree [2, 2, 1, 1, 0, 0]\n",
            "Topological order: [4, 5, 2, 0, 3, 1]\n"
          ]
        }
      ]
    },
    {
      "cell_type": "code",
      "source": [
        "#  bfs traversal for the given graph\n",
        "from collections import deque, defaultdict\n",
        "\n",
        "def bfs(graph, start):\n",
        "    visited = set()\n",
        "    order = []\n",
        "    q = deque([start])\n",
        "    visited.add(start)\n",
        "\n",
        "    while q:\n",
        "        node = q.popleft()\n",
        "        order.append(node)\n",
        "\n",
        "        for neighbor in graph[node]:\n",
        "            if neighbor not in visited:\n",
        "                visited.add(neighbor)\n",
        "                q.append(neighbor)\n",
        "    return order\n",
        "\n",
        "\n",
        "if __name__ == \"__main__\":\n",
        "    # Graph definition (undirected)\n",
        "    vertices = [\"X\", \"Y\", \"Z\", \"A\", \"B\"]\n",
        "    edges = [(\"X\",\"Y\"), (\"X\",\"Z\"), (\"Y\",\"A\"), (\"Y\",\"B\"), (\"Z\",\"B\")]\n",
        "\n",
        "    # Build adjacency list\n",
        "    graph = defaultdict(list)\n",
        "    for u, v in edges:\n",
        "        graph[u].append(v)\n",
        "        graph[v].append(u)  # undirected → add both ways\n",
        "\n",
        "    # BFS from X\n",
        "    order = bfs(graph, \"X\")\n",
        "    print(\"BFS Traversal starting from X:\", order)"
      ],
      "metadata": {
        "colab": {
          "base_uri": "https://localhost:8080/"
        },
        "id": "8TkPN7X2k8-y",
        "outputId": "904ad937-3e81-4ab8-bf00-3060e340c7cb"
      },
      "execution_count": 8,
      "outputs": [
        {
          "output_type": "stream",
          "name": "stdout",
          "text": [
            "BFS Traversal starting from X: ['X', 'Y', 'Z', 'A', 'B']\n"
          ]
        }
      ]
    },
    {
      "cell_type": "code",
      "source": [
        "# dfs traversal for a given graph\n",
        "from collections import defaultdict\n",
        "\n",
        "def dfs(graph, start, visited=None, order=None):\n",
        "    if visited is None:\n",
        "        visited = set()\n",
        "        order = []\n",
        "    visited.add(start)\n",
        "    order.append(start)\n",
        "\n",
        "    for neighbor in graph[start]:\n",
        "        if neighbor not in visited:\n",
        "            dfs(graph, neighbor, visited, order)\n",
        "    return order\n",
        "\n",
        "\n",
        "if __name__ == \"__main__\":\n",
        "    # Graph definition (directed)\n",
        "    vertices = [\"A\", \"B\", \"C\", \"D\", \"E\"]\n",
        "    edges = [(\"A\",\"B\"), (\"A\",\"C\"), (\"C\",\"E\"), (\"E\",\"D\")]\n",
        "\n",
        "    # Build adjacency list\n",
        "    graph = defaultdict(list)\n",
        "    for u, v in edges:\n",
        "        graph[u].append(v)\n",
        "\n",
        "    # DFS from A\n",
        "    order = dfs(graph, \"A\")\n",
        "    print(\"DFS Traversal starting from A:\", order)\n"
      ],
      "metadata": {
        "colab": {
          "base_uri": "https://localhost:8080/"
        },
        "id": "cbv7byQ6k9Bq",
        "outputId": "fd18d32f-4c3b-46cf-a78c-f486a2531dae"
      },
      "execution_count": 10,
      "outputs": [
        {
          "output_type": "stream",
          "name": "stdout",
          "text": [
            "DFS Traversal starting from A: ['A', 'B', 'C', 'E', 'D']\n"
          ]
        }
      ]
    }
  ]
}